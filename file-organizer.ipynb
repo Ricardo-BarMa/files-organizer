import os
import shutil
import time

class type_document:
    #Creating a class function to change the files based on the by type function
    def __init__ (self, new_folder, extensions):
      self.new_folder = new_folder
      self.extensions = extensions

    def create_by_type (self,path):
        #Creating a loop for all the files that are in the selected directory
        for f in os.listdir(path):
          #Splitting the name of the file to get the extension of the file
          file_name, file_extension = os.path.splitext(f)

          try:
            #If the file is a directory then pass
            if not file_extension:
                pass
            #If the file has an extension then change the file into a new directory
            #In addition, prove all the different folder name types and classify the document
            #Based on the extension of the file
            elif file_extension in self.extensions:
              # define the name of the directory to be created based on the name of the created class
              #Example   Data_base = type_document ("Data_B", "'.csv', '.dat',...")
              #Data_B is the name of the folder and csv, dat, etc are the extensions
              path_n = path + "/" + self.new_folder

              #Try to create a new directory
              try:
                  os.mkdir(path_n)
              except OSError:
                #If the directory exists then pass
                pass
              
              #Move the file to a new directory
              shutil.move(
                  #Old directory
                  os.path.join (path,f'{file_name}{file_extension}'),
                  #New directory
                  os.path.join (path_n, f'{file_name}{file_extension}')
                  )
          #Errors that can be found
          except (FileNotFoundError,PermissionError):
            pass


def by_date (path):
  #Creating a loop based on the number of files in the path
  for f in os.listdir(path):
    #if the file is a directory then pass
    if os.path.isdir(f):
      pass
    #If the file is not a directory then save it into a new created directory
    else:
      #Creating variables (Year, Month, Day) with the information of the file.
      Year = time.strftime('%Y', time.localtime(os.path.getmtime(f)))
      Month = time.strftime('%m', time.localtime(os.path.getmtime(f)))
      Day = time.strftime('%d', time.localtime(os.path.getmtime(f)))

      #Creating the new structure of the files with the information of the files
      F_Year = path + "/" + Year
      F_Month = path + "/" + Year + "/" + Month
      F_Day = path + "/" + Year + "/" + Month + "/" + Day

      #Creating new directories based on the information of the files
      try:
        os.mkdir(F_Year)
      except OSError:
        pass

      try:
        os.mkdir(F_Month)
      except OSError:
        pass

      try:
        os.mkdir(F_Day)
      except OSError:
        pass
      
      #Moving the files to the created directories
      shutil.move(
          #File to be moved
          os.path.join (path,f),
          #New directory for the file
          os.path.join (F_Day,f)
          )

#Function to define the different documents types
def by_type (path):

  Email = type_document ("Email","'.email', '.eml', '.emlx', '.msg', '.oft', '.ost', '.pst', '.vcf'")
  Email.create_by_type(path)

  Compressed_file = type_document("ZIP", "'.7z', '.arj', '.deb', '.pkg', '.rar', '.rpm', '.tar.gz', '.z', '.zip' ")
  Compressed_file.create_by_type(path)

  Executable = type_document ("Extensions", "'.apk', '.bat', '.cgi', '.pl', '.com', '.exe', '.gadget', '.jar', '.msi', '.py', '.wsf'")
  Executable.create_by_type(path)

  Audio = type_document("Audio", "'.aif', '.cda', '.mid', '.midi','.wma','.mp3', '.mpa', '.ogg', '.wav', '.wpl '")
  Audio.create_by_type(path)

  Disk_media = type_document("Media", "'.bin', '.dmg', '.iso', '.toast', '.vcd'")
  Disk_media.create_by_type(path)

  Data_base = type_document ("Data_B", "'.csv', '.dat', '.db', '.dbf', '.log', '.mdb', '.sav', '.sql', '.tar', '.xml'")
  Data_base.create_by_type(path)

  Fonts = type_document ("Font", "'.fnt', '.fon', '.otf', '.ttf'")
  Fonts.create_by_type(path)

  Image = type_document("Image", "'.ai', '.bmp', '.gif', '.ico', '.jpeg', '.jpg', '.png', '.ps', '.psd', '.svg', '.tif', '.tiff'")
  Image.create_by_type(path)

  Internet = type_document("Internet", "'.asp', '.aspx', '.cer', '.cfm', '.cgi', '.pl', '.css', '.htm', '.html', '.js', '.jsp', '.part', '.php', '.rss', '.xhtml'")
  Internet.create_by_type(path)

  Presentation = type_document("Presentation", "'.key', '.odp', '.pps', '.ppt', '.pptx'")
  Internet.create_by_type(path)

  Programming = type_document("Programming", "'.c', '.cgi','.pl', '.class', '.cpp', '.cs', '.h', '.java', '.php', '.py','.sh', '.swift', '.vb', '.json")
  Programming.create_by_type(path)

  Spreadsheet = type_document("Spreadsheet", "'.ods', '.xls', '.xlsm', '.xlsx'")
  Spreadsheet.create_by_type(path)

  System = type_document("System", "'.bak', '.cab', '.cfg', '.cpl', '.cur', '.dll', '.dmp', '.drv', '.icns', '.ico', '.ini', '.lnk', '.msi', '.sys', '.tmp'")
  System.create_by_type(path)

  Video = type_document("Video", "'.3g2', '.3pg', '.avi', '.flv', '.h264', '.m4v', '.mkv', '.mov', '.mp4', '.mpg', '.mpeg', '.rm', '.swf', '.vob', '.wmv' ")
  Video.create_by_type(path)

  Word_processor = type_document("Word_Proc", "'.doc', '.odt', '.pdf', '.rtf', '.tex', '.txt', 'wpd', '.md'")
  Word_processor.create_by_type(path)

def main():

  #Defining the path that will be ordered
  cwd = path
  try:
    print(cwd)
  except EOFError:
    cwd = input("What is the path to order the files? ")

  #Function while true to entry a valid answer (D/T), otherwise ask again
  while True:
    #Asking for the type of ordering
    Type_Order = input("What kind of order would you like write D to order by date or T to order by Type (D/T):")
    Type_Order = Type_Order.lower()
    try:
      if Type_Order == "t":
        print("Input entered successfully")
        break;
      elif Type_Order == "d":
        print("Input entered successfully")
        break;
      else:
        print("Please write a valid answer.")
    except ValueError:
      continue

  #Ordering the files based on the election
  if Type_Order == "t":
    by_type(cwd)
  elif Type_Order == "d":
    by_date(cwd)

  print("Done")

if __name__ == '__main__':
  #Changing the current directory for colab
  os.chdir("/content/sample_data/")
  #Defining the path with the current directory
  path = os.getcwd()
  #Running the main function
  main()
